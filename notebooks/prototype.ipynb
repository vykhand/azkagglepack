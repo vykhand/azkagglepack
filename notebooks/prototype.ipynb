{
 "cells": [
  {
   "cell_type": "code",
   "execution_count": 4,
   "metadata": {},
   "outputs": [],
   "source": [
    "import json\n",
    "import requests\n",
    "DSVM_TEMPLATE_URL = \"https://raw.githubusercontent.com/Azure/DataScienceVM/master/Scripts/CreateDSVM/Ubuntu/azuredeploy.json\""
   ]
  },
  {
   "cell_type": "code",
   "execution_count": 77,
   "metadata": {},
   "outputs": [],
   "source": [
    "template = requests.get(DSVM_TEMPLATE_URL).json()"
   ]
  },
  {
   "cell_type": "code",
   "execution_count": 78,
   "metadata": {
    "scrolled": false
   },
   "outputs": [
    {
     "data": {
      "text/plain": [
       "{'$schema': 'https://schema.management.azure.com/schemas/2015-01-01/deploymentTemplate.json#',\n",
       " 'contentVersion': '1.0.0.0',\n",
       " 'parameters': {'adminUsername': {'type': 'string',\n",
       "   'metadata': {'description': 'Username for the Virtual Machine.'}},\n",
       "  'adminPassword': {'type': 'securestring',\n",
       "   'metadata': {'description': 'Password for the Virtual Machine.'}},\n",
       "  'vmName': {'type': 'string',\n",
       "   'metadata': {'description': 'Name Prefix for the Virtual Machine.'}},\n",
       "  'vmSize': {'type': 'string',\n",
       "   'defaultValue': 'Standard_DS3_v2',\n",
       "   'metadata': {'description': 'Size for the Virtual Machine.'}}},\n",
       " 'variables': {'location': '[resourceGroup().location]',\n",
       "  'imagePublisher': 'microsoft-dsvm',\n",
       "  'imageOffer': 'linux-data-science-vm-ubuntu',\n",
       "  'OSDiskName': \"[concat(parameters('vmName'),'-osdisk')]\",\n",
       "  'DataDiskName': \"[concat(parameters('vmName'),'-data-0')]\",\n",
       "  'sku': 'linuxdsvmubuntu',\n",
       "  'nicName': \"[parameters('vmName')]\",\n",
       "  'addressPrefix': '10.0.0.0/16',\n",
       "  'subnetName': 'Subnet',\n",
       "  'subnetPrefix': '10.0.0.0/24',\n",
       "  'publicIPAddressType': 'Dynamic',\n",
       "  'publicIPAddressName': \"[parameters('vmName')]\",\n",
       "  'vmName': \"[parameters('vmName')]\",\n",
       "  'vmSize': \"[parameters('vmSize')]\",\n",
       "  'virtualNetworkName': \"[parameters('vmName')]\",\n",
       "  'nsgName': \"[concat(parameters('vmName'),'-nsg')]\",\n",
       "  'nsgId': \"[resourceId(resourceGroup().name, 'Microsoft.Network/networkSecurityGroups', variables('nsgName'))]\",\n",
       "  'vnetID': \"[resourceId('Microsoft.Network/virtualNetworks',variables('virtualNetworkName'))]\",\n",
       "  'subnetRef': \"[concat(variables('vnetID'),'/subnets/',variables('subnetName'))]\"},\n",
       " 'resources': [{'apiVersion': '2018-02-01',\n",
       "   'type': 'Microsoft.Network/networkSecurityGroups',\n",
       "   'location': \"[variables('location')]\",\n",
       "   'name': \"[variables('nsgName')]\",\n",
       "   'properties': {'securityRules': [{'name': 'Allow-SSH-Jupyterhub',\n",
       "      'properties': {'protocol': 'Tcp',\n",
       "       'sourcePortRange': '*',\n",
       "       'sourceAddressPrefix': '*',\n",
       "       'destinationAddressPrefix': '*',\n",
       "       'access': 'Allow',\n",
       "       'priority': 100,\n",
       "       'direction': 'Inbound',\n",
       "       'sourcePortRanges': [],\n",
       "       'destinationPortRanges': ['22', '8000'],\n",
       "       'destinationPortRange': ''}}]}},\n",
       "  {'apiVersion': '2015-05-01-preview',\n",
       "   'type': 'Microsoft.Network/publicIPAddresses',\n",
       "   'name': \"[variables('publicIPAddressName')]\",\n",
       "   'location': \"[variables('location')]\",\n",
       "   'properties': {'publicIPAllocationMethod': \"[variables('publicIPAddressType')]\",\n",
       "    'dnsSettings': {'domainNameLabel': \"[variables('publicIPAddressName')]\"}}},\n",
       "  {'apiVersion': '2015-05-01-preview',\n",
       "   'type': 'Microsoft.Network/virtualNetworks',\n",
       "   'name': \"[variables('virtualNetworkName')]\",\n",
       "   'location': \"[variables('location')]\",\n",
       "   'dependsOn': [\"[concat('Microsoft.Network/networkSecurityGroups/', variables('nsgName'))]\"],\n",
       "   'properties': {'addressSpace': {'addressPrefixes': [\"[variables('addressPrefix')]\"]},\n",
       "    'subnets': [{'name': \"[variables('subnetName')]\",\n",
       "      'properties': {'addressPrefix': \"[variables('subnetPrefix')]\"}}]}},\n",
       "  {'apiVersion': '2015-05-01-preview',\n",
       "   'type': 'Microsoft.Network/networkInterfaces',\n",
       "   'name': \"[variables('nicName')]\",\n",
       "   'location': \"[variables('location')]\",\n",
       "   'dependsOn': [\"[concat('Microsoft.Network/publicIPAddresses/', variables('publicIPAddressName'))]\",\n",
       "    \"[concat('Microsoft.Network/virtualNetworks/', variables('virtualNetworkName'))]\",\n",
       "    \"[concat('Microsoft.Network/networkSecurityGroups/', variables('nsgName'))]\"],\n",
       "   'properties': {'ipConfigurations': [{'name': 'ipconfig1',\n",
       "      'properties': {'privateIPAllocationMethod': 'Dynamic',\n",
       "       'publicIPAddress': {'id': \"[resourceId('Microsoft.Network/publicIPAddresses',variables('publicIPAddressName'))]\"},\n",
       "       'subnet': {'id': \"[variables('subnetRef')]\"}}}],\n",
       "    'networkSecurityGroup': {'id': \"[variables('nsgId')]\"}}},\n",
       "  {'apiVersion': '2017-03-30',\n",
       "   'type': 'Microsoft.Compute/virtualMachines',\n",
       "   'name': \"[variables('vmName')]\",\n",
       "   'location': \"[variables('location')]\",\n",
       "   'tags': {'Application': 'DataScience'},\n",
       "   'dependsOn': [\"[concat('Microsoft.Network/networkInterfaces/', variables('nicName'))]\"],\n",
       "   'properties': {'hardwareProfile': {'vmSize': \"[variables('vmSize')]\"},\n",
       "    'osProfile': {'computerName': \"[variables('vmName')]\",\n",
       "     'adminUsername': \"[parameters('adminUsername')]\",\n",
       "     'adminPassword': \"[parameters('adminPassword')]\"},\n",
       "    'storageProfile': {'imageReference': {'publisher': \"[variables('imagePublisher')]\",\n",
       "      'offer': \"[variables('imageOffer')]\",\n",
       "      'sku': \"[variables('sku')]\",\n",
       "      'version': 'latest'},\n",
       "     'osDisk': {'name': \"[variables('OSDiskName')]\",\n",
       "      'managedDisk': {'storageAccountType': 'Standard_LRS'},\n",
       "      'createOption': 'FromImage'},\n",
       "     'dataDisks': [{'name': \"[variables('DataDiskName')]\",\n",
       "       'managedDisk': {'storageAccountType': 'Standard_LRS'},\n",
       "       'createOption': 'FromImage',\n",
       "       'lun': 0}]},\n",
       "    'networkProfile': {'networkInterfaces': [{'id': \"[resourceId('Microsoft.Network/networkInterfaces',variables('nicName'))]\"}]},\n",
       "    'diagnosticsProfile': {'bootDiagnostics': {'enabled': False}}}}],\n",
       " 'outputs': {'DataScienceVmUrl': {'type': 'string',\n",
       "   'value': \"[concat('https://ms.portal.azure.com/#resource/subscriptions/', subscription().subscriptionId, '/resourceGroups/', resourceGroup().name, '/providers/Microsoft.Compute/virtualMachines/', variables('vmName'))]\"}}}"
      ]
     },
     "execution_count": 78,
     "metadata": {},
     "output_type": "execute_result"
    }
   ],
   "source": [
    "template"
   ]
  },
  {
   "cell_type": "code",
   "execution_count": 79,
   "metadata": {},
   "outputs": [],
   "source": [
    "vm_props = [i[\"properties\"] for i in template[\"resources\"] if i[\"type\"] == \"Microsoft.Compute/virtualMachines\"][0]"
   ]
  },
  {
   "cell_type": "code",
   "execution_count": 80,
   "metadata": {},
   "outputs": [],
   "source": [
    "vm_stor_profile = vm_props[\"storageProfile\"]"
   ]
  },
  {
   "cell_type": "code",
   "execution_count": 81,
   "metadata": {},
   "outputs": [],
   "source": [
    "vm_stor_profile[\"osDisk\"][\"diskSizeGB\"] = 100\n",
    "vm_stor_profile[\"osDisk\"][\"managedDisk\"][\"storageAccountType\"] = \"Premium_LRS\""
   ]
  },
  {
   "cell_type": "code",
   "execution_count": 82,
   "metadata": {},
   "outputs": [],
   "source": [
    "vm_stor_profile[\"dataDisks\"][0][\"diskSizeGB\"] = 200\n",
    "vm_stor_profile[\"dataDisks\"][0][\"managedDisk\"][\"storageAccountType\"] = \"Premium_LRS\""
   ]
  },
  {
   "cell_type": "code",
   "execution_count": 92,
   "metadata": {},
   "outputs": [],
   "source": [
    "vm_os_profile = vm_props[\"osProfile\"]"
   ]
  },
  {
   "cell_type": "code",
   "execution_count": 93,
   "metadata": {},
   "outputs": [],
   "source": [
    "vm_os_profile[\"linuxConfiguration\"] = {\"ssh\": {\n",
    "                            \"publicKeys\": [\n",
    "                            {\n",
    "                                \"path\": \"[variables('sshKeyPath')]\",\n",
    "                                \"keyData\": \"[parameters('sshKeyData')]\"\n",
    "                            }\n",
    "                            ]\n",
    "                        }}"
   ]
  },
  {
   "cell_type": "code",
   "execution_count": 98,
   "metadata": {},
   "outputs": [],
   "source": [
    "template[\"parameters\"][\"sshKeyData\"] =  {\n",
    "            \"type\": \"string\",\n",
    "          \"metadata\": {\n",
    "              \"description\": \"SSH public key data as a string.\"\n",
    "          }}\n",
    "\n",
    "template[\"variables\"][\"sshKeyPath\"] =  \"[concat('/home/',parameters('adminUsername'),'/.ssh/authorized_keys')]\"\n"
   ]
  },
  {
   "cell_type": "code",
   "execution_count": 94,
   "metadata": {},
   "outputs": [],
   "source": [
    "with open(\"/Users/vykhand/.ssh/id_rsa.pub\", \"r\") as f:\n",
    "    ssh_key = f.read().replace(\"\\n\", \"\")"
   ]
  },
  {
   "cell_type": "code",
   "execution_count": 83,
   "metadata": {},
   "outputs": [],
   "source": [
    "from azure.common.credentials import ServicePrincipalCredentials\n",
    "from azure.mgmt.resource import ResourceManagementClient\n",
    "from azure.mgmt.resource.resources.models import DeploymentMode"
   ]
  },
  {
   "cell_type": "code",
   "execution_count": 84,
   "metadata": {},
   "outputs": [],
   "source": [
    "subscription_id = \"81ae6a7a-0699-4b60-9c61-294bae201fba\"\n",
    "tenant_id = \"72f988bf-86f1-41af-91ab-2d7cd011db47\"\n",
    "client_id = \"e14ed072-80aa-4782-881d-5362589e9d32\"\n",
    "client_secret = \"A/PeHoOuHmx0TieuDzGEhuwR0s5gXTTRS7RBvuq82zY=\""
   ]
  },
  {
   "cell_type": "code",
   "execution_count": 85,
   "metadata": {},
   "outputs": [],
   "source": [
    "credentials  = ServicePrincipalCredentials(client_id, client_secret, tenant = tenant_id)"
   ]
  },
  {
   "cell_type": "code",
   "execution_count": 86,
   "metadata": {},
   "outputs": [],
   "source": [
    "client = ResourceManagementClient(credentials, subscription_id)"
   ]
  },
  {
   "cell_type": "code",
   "execution_count": 87,
   "metadata": {},
   "outputs": [],
   "source": [
    "location = \"westeurope\"\n",
    "\n",
    "group_name = \"dsvm001\"\n",
    "vm_name = \"dsvm001\"\n",
    "vm_size = \"Standard_D4s_v3\"\n",
    "admin_name = \"vykhand\"\n",
    "admin_pass = \"P00l!2018\""
   ]
  },
  {
   "cell_type": "code",
   "execution_count": 166,
   "metadata": {},
   "outputs": [],
   "source": [
    "op = client.resource_groups.create_or_update(group_name, {\"location\": location})"
   ]
  },
  {
   "cell_type": "code",
   "execution_count": 167,
   "metadata": {},
   "outputs": [],
   "source": [
    "parameters = {\n",
    "    'sshKeyData': ssh_key,\n",
    "    'vmName': vm_name,\n",
    "    'vmSize': vm_size,\n",
    "    'adminUsername': admin_name,\n",
    "    'adminPassword': admin_pass\n",
    "}\n",
    "\n",
    "parameters = {k: {'value': v} for k, v in parameters.items()}\n",
    "\n",
    "deployment_properties = {\n",
    "            'mode': DeploymentMode.incremental,\n",
    "            'template': template,\n",
    "            'parameters': parameters\n",
    "        }"
   ]
  },
  {
   "cell_type": "code",
   "execution_count": 168,
   "metadata": {},
   "outputs": [],
   "source": [
    "deployment_async_operation = client.deployments.create_or_update(group_name, 'deployment-' + vm_name, deployment_properties)\n",
    "deployment_async_operation.wait()"
   ]
  },
  {
   "cell_type": "code",
   "execution_count": 123,
   "metadata": {},
   "outputs": [],
   "source": [
    "from azure.mgmt.compute import ComputeManagementClient"
   ]
  },
  {
   "cell_type": "code",
   "execution_count": 139,
   "metadata": {},
   "outputs": [],
   "source": [
    "from azure.mgmt.network import NetworkManagementClient"
   ]
  },
  {
   "cell_type": "code",
   "execution_count": 125,
   "metadata": {},
   "outputs": [],
   "source": [
    "compute_client  = ComputeManagementClient(credentials, subscription_id)"
   ]
  },
  {
   "cell_type": "code",
   "execution_count": 140,
   "metadata": {},
   "outputs": [],
   "source": [
    "network_client = NetworkManagementClient(credentials, subscription_id)"
   ]
  },
  {
   "cell_type": "code",
   "execution_count": 146,
   "metadata": {},
   "outputs": [
    {
     "data": {
      "text/plain": [
       "'/subscriptions/81ae6a7a-0699-4b60-9c61-294bae201fba/resourceGroups/dsvm001/providers/Microsoft.Network/networkInterfaces/dsvm001'"
      ]
     },
     "execution_count": 146,
     "metadata": {},
     "output_type": "execute_result"
    }
   ],
   "source": [
    "vm.network_profile.network_interfaces[0].id"
   ]
  },
  {
   "cell_type": "code",
   "execution_count": 126,
   "metadata": {},
   "outputs": [],
   "source": [
    "vm = compute_client.virtual_machines.get(group_name, vm_name)"
   ]
  },
  {
   "cell_type": "code",
   "execution_count": 138,
   "metadata": {},
   "outputs": [
    {
     "data": {
      "text/plain": [
       "{'id': '/subscriptions/81ae6a7a-0699-4b60-9c61-294bae201fba/resourceGroups/dsvm001/providers/Microsoft.Compute/virtualMachines/dsvm001',\n",
       " 'name': 'dsvm001',\n",
       " 'type': 'Microsoft.Compute/virtualMachines',\n",
       " 'location': 'westeurope',\n",
       " 'tags': {'Application': 'DataScience'},\n",
       " 'hardware_profile': {'vm_size': 'Standard_D4s_v3'},\n",
       " 'storage_profile': {'image_reference': {'publisher': 'microsoft-dsvm',\n",
       "   'offer': 'linux-data-science-vm-ubuntu',\n",
       "   'sku': 'linuxdsvmubuntu',\n",
       "   'version': 'latest'},\n",
       "  'os_disk': {'os_type': 'Linux',\n",
       "   'name': 'dsvm001-osdisk',\n",
       "   'caching': 'ReadWrite',\n",
       "   'create_option': 'FromImage',\n",
       "   'disk_size_gb': 100,\n",
       "   'managed_disk': {'id': '/subscriptions/81ae6a7a-0699-4b60-9c61-294bae201fba/resourceGroups/dsvm001/providers/Microsoft.Compute/disks/dsvm001-osdisk',\n",
       "    'storage_account_type': 'Premium_LRS'}},\n",
       "  'data_disks': [{'lun': 0,\n",
       "    'name': 'dsvm001-data-0',\n",
       "    'caching': 'None',\n",
       "    'create_option': 'FromImage',\n",
       "    'disk_size_gb': 200,\n",
       "    'managed_disk': {'id': '/subscriptions/81ae6a7a-0699-4b60-9c61-294bae201fba/resourceGroups/dsvm001/providers/Microsoft.Compute/disks/dsvm001-data-0',\n",
       "     'storage_account_type': 'Premium_LRS'}}]},\n",
       " 'os_profile': {'computer_name': 'dsvm001',\n",
       "  'admin_username': 'vykhand',\n",
       "  'linux_configuration': {'disable_password_authentication': True,\n",
       "   'ssh': {'public_keys': [{'path': '/home/vykhand/.ssh/authorized_keys',\n",
       "      'key_data': 'ssh-rsa AAAAB3NzaC1yc2EAAAADAQABAAABAQDJAgAK4o4msl7mwRNRyNU2mhGBIDAsKAbAZo/amEikDyIZGbRIvLdlT1YkxbYMQg59feldZOebnWHl96cbB+eLJlk+7dRiUyKVg77L9+8gbQccMH3d66UJxWWQxRvEcQcQUe3o88B0kSky91BVyUggAMugfrpTApDm07ifZyzljAhVl2oyZLzFg2jEqI0PcodRD31IgM6Xmpb2Uv9GxcvhetpkZwuP6WFUb1QISfdYLqarHSu8PsExpXX4huVJ72fm8uMp7vbGfVcidNcg9el/gT+NLgkte0uuI51oHAXNmCMYssykw5dlfVBcmPEksvVPumuQRHZTyOnkm5aVmQ5Z vykhand@Andreys-MacBook-Pro-2.local'}]}},\n",
       "  'secrets': []},\n",
       " 'network_profile': {'network_interfaces': [{'id': '/subscriptions/81ae6a7a-0699-4b60-9c61-294bae201fba/resourceGroups/dsvm001/providers/Microsoft.Network/networkInterfaces/dsvm001'}]},\n",
       " 'diagnostics_profile': {'boot_diagnostics': {'enabled': False}},\n",
       " 'provisioning_state': 'Succeeded',\n",
       " 'vm_id': '185efcad-57bd-42ce-acb5-e014e6c2473f'}"
      ]
     },
     "execution_count": 138,
     "metadata": {},
     "output_type": "execute_result"
    }
   ],
   "source": [
    "vm.as_dict()"
   ]
  },
  {
   "cell_type": "code",
   "execution_count": 109,
   "metadata": {},
   "outputs": [],
   "source": [
    "vm_host = \"dsvm001.westeurope.cloudapp.azure.com\""
   ]
  },
  {
   "cell_type": "code",
   "execution_count": 174,
   "metadata": {},
   "outputs": [],
   "source": [
    "op = compute_client.virtual_machines.run_command(group_name, vm_name, \n",
    "                                                 parameters = {'command_id': 'RunShellScript',\n",
    "                                                              \"script\": [\"sudo growpart /dev/sdc 1\",\n",
    "                                                                        \"sudo resize2fs /dev/sdc1\"]})\n",
    "op.wait()"
   ]
  },
  {
   "cell_type": "code",
   "execution_count": 103,
   "metadata": {},
   "outputs": [],
   "source": [
    "import paramiko"
   ]
  },
  {
   "cell_type": "code",
   "execution_count": 115,
   "metadata": {},
   "outputs": [],
   "source": [
    "ssh = paramiko.SSHClient()\n",
    "ssh.load_system_host_keys()\n",
    "ssh.set_missing_host_key_policy(paramiko.AutoAddPolicy())"
   ]
  },
  {
   "cell_type": "code",
   "execution_count": 116,
   "metadata": {},
   "outputs": [],
   "source": [
    "ssh.connect(vm_host,username = \"vykhand\",  key_filename=\"/Users/vykhand/.ssh/id_rsa\" )"
   ]
  },
  {
   "cell_type": "code",
   "execution_count": 117,
   "metadata": {},
   "outputs": [],
   "source": [
    "ssh_stdin, ssh_stdout, ssh_stderr = ssh.exec_command(\"sudo growpart /dev/sdc 1\")"
   ]
  },
  {
   "cell_type": "code",
   "execution_count": 118,
   "metadata": {},
   "outputs": [],
   "source": [
    "ssh_stdin, ssh_stdout, ssh_stderr = ssh.exec_command(\"sudo resize2fs /dev/sdc1\")"
   ]
  },
  {
   "cell_type": "code",
   "execution_count": 152,
   "metadata": {},
   "outputs": [
    {
     "data": {
      "text/plain": [
       "<msrest.polling.poller.LROPoller at 0x111450ac8>"
      ]
     },
     "execution_count": 152,
     "metadata": {},
     "output_type": "execute_result"
    }
   ],
   "source": [
    "compute_client.virtual_machines.deallocate(group_name, vm_name)"
   ]
  },
  {
   "cell_type": "code",
   "execution_count": 175,
   "metadata": {},
   "outputs": [],
   "source": [
    "op = client.resource_groups.delete(group_name)"
   ]
  },
  {
   "cell_type": "code",
   "execution_count": 176,
   "metadata": {},
   "outputs": [],
   "source": [
    "op.wait()"
   ]
  },
  {
   "cell_type": "code",
   "execution_count": 158,
   "metadata": {},
   "outputs": [
    {
     "data": {
      "text/plain": [
       "<azure.mgmt.compute.v2018_10_01.models.virtual_machine_paged.VirtualMachinePaged at 0x111476978>"
      ]
     },
     "execution_count": 158,
     "metadata": {},
     "output_type": "execute_result"
    }
   ],
   "source": [
    "compute_client.virtual_machines.list(group_name)"
   ]
  },
  {
   "cell_type": "code",
   "execution_count": 160,
   "metadata": {},
   "outputs": [
    {
     "data": {
      "text/plain": [
       "[]"
      ]
     },
     "execution_count": 160,
     "metadata": {},
     "output_type": "execute_result"
    }
   ],
   "source": [
    "[g for g in client.resource_groups.list() if g.name == group_name]"
   ]
  },
  {
   "cell_type": "code",
   "execution_count": 163,
   "metadata": {
    "scrolled": false
   },
   "outputs": [
    {
     "data": {
      "text/plain": [
       "[]"
      ]
     },
     "execution_count": 163,
     "metadata": {},
     "output_type": "execute_result"
    }
   ],
   "source": [
    "[v for v in compute_client.virtual_machines.list_all()]"
   ]
  },
  {
   "cell_type": "code",
   "execution_count": null,
   "metadata": {},
   "outputs": [],
   "source": []
  }
 ],
 "metadata": {
  "kernelspec": {
   "display_name": "Python 3.6 Kaggle QuickDraw",
   "language": "python",
   "name": "py36qd"
  },
  "language_info": {
   "codemirror_mode": {
    "name": "ipython",
    "version": 3
   },
   "file_extension": ".py",
   "mimetype": "text/x-python",
   "name": "python",
   "nbconvert_exporter": "python",
   "pygments_lexer": "ipython3",
   "version": "3.6.7"
  }
 },
 "nbformat": 4,
 "nbformat_minor": 2
}
