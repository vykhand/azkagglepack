{
 "cells": [
  {
   "cell_type": "code",
   "execution_count": 1,
   "metadata": {},
   "outputs": [],
   "source": [
    "%load_ext autoreload\n",
    "%autoreload 2"
   ]
  },
  {
   "cell_type": "code",
   "execution_count": 2,
   "metadata": {},
   "outputs": [],
   "source": [
    "import azkagglepack.vm as vm"
   ]
  },
  {
   "cell_type": "code",
   "execution_count": 3,
   "metadata": {},
   "outputs": [],
   "source": [
    "from azkagglepack.vm import AzureVM"
   ]
  },
  {
   "cell_type": "code",
   "execution_count": 4,
   "metadata": {},
   "outputs": [],
   "source": [
    "import os\n",
    "os.environ[\"AZURE_SUBSCRIPTION_ID\"] = \"81ae6a7a-0699-4b60-9c61-294bae201fba\"\n",
    "os.environ[\"AZURE_TENANT_ID\"] = \"72f988bf-86f1-41af-91ab-2d7cd011db47\"\n",
    "os.environ[\"AZURE_CLIENT_ID\"] = \"e14ed072-80aa-4782-881d-5362589e9d32\"\n",
    "os.environ[\"AZURE_CLIENT_SECRET\"] = \"A/PeHoOuHmx0TieuDzGEhuwR0s5gXTTRS7RBvuq82zY=\""
   ]
  },
  {
   "cell_type": "code",
   "execution_count": 5,
   "metadata": {},
   "outputs": [],
   "source": [
    "new_vm  = AzureVM(\"dsvm001\")"
   ]
  },
  {
   "cell_type": "code",
   "execution_count": 8,
   "metadata": {},
   "outputs": [
    {
     "data": {
      "text/plain": [
       "False"
      ]
     },
     "execution_count": 8,
     "metadata": {},
     "output_type": "execute_result"
    }
   ],
   "source": [
    "new_vm.vm_exists"
   ]
  },
  {
   "cell_type": "code",
   "execution_count": 9,
   "metadata": {
    "scrolled": true
   },
   "outputs": [
    {
     "data": {
      "text/plain": [
       "'dsvm001'"
      ]
     },
     "execution_count": 9,
     "metadata": {},
     "output_type": "execute_result"
    }
   ],
   "source": [
    "new_vm.vm_name"
   ]
  },
  {
   "cell_type": "code",
   "execution_count": 10,
   "metadata": {},
   "outputs": [
    {
     "data": {
      "text/plain": [
       "'dsvm001'"
      ]
     },
     "execution_count": 10,
     "metadata": {},
     "output_type": "execute_result"
    }
   ],
   "source": [
    "new_vm.group_name"
   ]
  },
  {
   "cell_type": "code",
   "execution_count": 11,
   "metadata": {},
   "outputs": [
    {
     "data": {
      "text/plain": [
       "False"
      ]
     },
     "execution_count": 11,
     "metadata": {},
     "output_type": "execute_result"
    }
   ],
   "source": [
    "new_vm.group_exists"
   ]
  },
  {
   "cell_type": "code",
   "execution_count": 12,
   "metadata": {},
   "outputs": [
    {
     "data": {
      "text/plain": [
       "('dsvm001', 'dsvm001')"
      ]
     },
     "execution_count": 12,
     "metadata": {},
     "output_type": "execute_result"
    }
   ],
   "source": [
    "new_vm.create(vm.SKU_D2S_V3, \"westeurope\", \"vykhand\", \"P00l!2018\", ssh_key_file=\"/Users/vykhand/.ssh/id_rsa.pub\" )"
   ]
  },
  {
   "cell_type": "code",
   "execution_count": 13,
   "metadata": {},
   "outputs": [
    {
     "data": {
      "text/plain": [
       "'dsvm001.westeurope.cloudapp.azure.com'"
      ]
     },
     "execution_count": 13,
     "metadata": {},
     "output_type": "execute_result"
    }
   ],
   "source": [
    "new_vm.vm_hostname"
   ]
  },
  {
   "cell_type": "code",
   "execution_count": 14,
   "metadata": {},
   "outputs": [],
   "source": [
    "new_vm.resizeOSDisk(100)"
   ]
  },
  {
   "cell_type": "code",
   "execution_count": null,
   "metadata": {},
   "outputs": [],
   "source": [
    "new_vm.resizeDat"
   ]
  },
  {
   "cell_type": "code",
   "execution_count": 46,
   "metadata": {},
   "outputs": [],
   "source": [
    "op = new_vm.run_sdk(['echo \"hello world!\"', 'cat /proc/cpuinfo | grep -i \"model name\"'])"
   ]
  },
  {
   "cell_type": "code",
   "execution_count": 47,
   "metadata": {},
   "outputs": [
    {
     "data": {
      "text/plain": [
       "('hello world!\\nmodel name\\t: Intel(R) Xeon(R) CPU E5-2673 v4 @ 2.30GHz\\nmodel name\\t: Intel(R) Xeon(R) CPU E5-2673 v4 @ 2.30GHz\\n\\n',\n",
       " '')"
      ]
     },
     "execution_count": 47,
     "metadata": {},
     "output_type": "execute_result"
    }
   ],
   "source": [
    "op"
   ]
  },
  {
   "cell_type": "code",
   "execution_count": 81,
   "metadata": {},
   "outputs": [],
   "source": [
    "res = new_vm.run_ssh(['echo \"hello world!\"', 'cat /proc/cpuinfo | grep -i \"model name\"'])"
   ]
  },
  {
   "cell_type": "code",
   "execution_count": 82,
   "metadata": {},
   "outputs": [
    {
     "name": "stdout",
     "output_type": "stream",
     "text": [
      "model name\t: Intel(R) Xeon(R) CPU E5-2673 v4 @ 2.30GHz\n",
      "model name\t: Intel(R) Xeon(R) CPU E5-2673 v4 @ 2.30GHz\n",
      "model name\t: Intel(R) Xeon(R) CPU E5-2673 v4 @ 2.30GHz\n",
      "model name\t: Intel(R) Xeon(R) CPU E5-2673 v4 @ 2.30GHz\n"
     ]
    }
   ],
   "source": [
    "print(res[1][0])"
   ]
  },
  {
   "cell_type": "code",
   "execution_count": null,
   "metadata": {},
   "outputs": [],
   "source": [
    "new_vm = AzureVM(\"dsvm001\")"
   ]
  },
  {
   "cell_type": "code",
   "execution_count": 19,
   "metadata": {},
   "outputs": [],
   "source": [
    "res = new_vm.run_commands(['echo \"hello world!\"', 'cat /proc/cpuinfo | grep -i \"model name\"'])"
   ]
  },
  {
   "cell_type": "code",
   "execution_count": 20,
   "metadata": {},
   "outputs": [
    {
     "data": {
      "text/plain": [
       "[('hello world!', ''),\n",
       " ('model name\\t: Intel(R) Xeon(R) CPU E5-2673 v4 @ 2.30GHz\\nmodel name\\t: Intel(R) Xeon(R) CPU E5-2673 v4 @ 2.30GHz',\n",
       "  '')]"
      ]
     },
     "execution_count": 20,
     "metadata": {},
     "output_type": "execute_result"
    }
   ],
   "source": [
    "res"
   ]
  },
  {
   "cell_type": "code",
   "execution_count": 7,
   "metadata": {},
   "outputs": [],
   "source": [
    "new_vm.attach_vm(\"vykhand\", \"/Users/vykhand/.ssh/id_rsa.pub\")"
   ]
  },
  {
   "cell_type": "code",
   "execution_count": 16,
   "metadata": {},
   "outputs": [],
   "source": [
    "res = new_vm.run_commands(['echo \"hello world!\"', 'cat /proc/cpuinfo | grep -i \"model name\"'])"
   ]
  },
  {
   "cell_type": "code",
   "execution_count": 22,
   "metadata": {
    "scrolled": true
   },
   "outputs": [
    {
     "data": {
      "text/plain": [
       "<msrest.polling.poller.LROPoller at 0x115be5d30>"
      ]
     },
     "execution_count": 22,
     "metadata": {},
     "output_type": "execute_result"
    }
   ],
   "source": [
    "res = new_vm.resizeDataDisk(256)"
   ]
  },
  {
   "cell_type": "code",
   "execution_count": null,
   "metadata": {},
   "outputs": [],
   "source": [
    "# setting up the kaggle folder"
   ]
  },
  {
   "cell_type": "code",
   "execution_count": 24,
   "metadata": {},
   "outputs": [],
   "source": [
    "competition_name = \"quickdraw-doodle-recognition\"\n",
    "competition_alias = \"kaggle-quickdraw\""
   ]
  },
  {
   "cell_type": "code",
   "execution_count": 45,
   "metadata": {},
   "outputs": [
    {
     "data": {
      "text/plain": [
       "[('Requirement already satisfied: kaggle in /data/anaconda/envs/py35/lib/python3.5/site-packages (1.5.0)\\nRequirement already satisfied: six>=1.10 in /data/anaconda/envs/py35/lib/python3.5/site-packages (from kaggle) (1.11.0)\\nRequirement already satisfied: tqdm in /data/anaconda/envs/py35/lib/python3.5/site-packages (from kaggle) (4.26.0)\\nRequirement already satisfied: requests in /data/anaconda/envs/py35/lib/python3.5/site-packages (from kaggle) (2.18.4)\\nRequirement already satisfied: python-slugify in /data/anaconda/envs/py35/lib/python3.5/site-packages (from kaggle) (1.2.6)\\nRequirement already satisfied: python-dateutil in /data/anaconda/envs/py35/lib/python3.5/site-packages (from kaggle) (2.7.3)\\nRequirement already satisfied: urllib3<1.23.0,>=1.15 in /data/anaconda/envs/py35/lib/python3.5/site-packages (from kaggle) (1.22)\\nRequirement already satisfied: certifi in /data/anaconda/envs/py35/lib/python3.5/site-packages (from kaggle) (2018.8.24)\\nRequirement already satisfied: idna<2.7,>=2.5 in /data/anaconda/envs/py35/lib/python3.5/site-packages (from requests->kaggle) (2.6)\\nRequirement already satisfied: chardet<3.1.0,>=3.0.2 in /data/anaconda/envs/py35/lib/python3.5/site-packages (from requests->kaggle) (3.0.4)\\nRequirement already satisfied: Unidecode>=0.04.16 in /data/anaconda/envs/py35/lib/python3.5/site-packages (from python-slugify->kaggle) (1.0.23)',\n",
       "  \"You are using pip version 18.0, however version 18.1 is available.\\nYou should consider upgrading via the 'pip install --upgrade pip' command.\")]"
      ]
     },
     "execution_count": 45,
     "metadata": {},
     "output_type": "execute_result"
    }
   ],
   "source": [
    "new_vm.run_commands([\"source /etc/profile; pip install kaggle\"])"
   ]
  },
  {
   "cell_type": "code",
   "execution_count": 25,
   "metadata": {},
   "outputs": [
    {
     "data": {
      "text/plain": [
       "[('', '')]"
      ]
     },
     "execution_count": 25,
     "metadata": {},
     "output_type": "execute_result"
    }
   ],
   "source": [
    "new_vm.run_cmd(\"mkdir -p ~/data/{}\".format(competition_alias))"
   ]
  },
  {
   "cell_type": "code",
   "execution_count": 47,
   "metadata": {
    "scrolled": true
   },
   "outputs": [
    {
     "data": {
      "text/plain": [
       "[('',\n",
       "  'Traceback (most recent call last):\\n  File \"/anaconda/envs/py35/bin/kaggle\", line 7, in <module>\\n    from kaggle.cli import main\\n  File \"/anaconda/envs/py35/lib/python3.5/site-packages/kaggle/__init__.py\", line 23, in <module>\\n    api.authenticate()\\n  File \"/anaconda/envs/py35/lib/python3.5/site-packages/kaggle/api/kaggle_api_extended.py\", line 113, in authenticate\\n    self.config_file, self.config_dir))\\nOSError: Could not find kaggle.json. Make sure it\\'s located in /home/vykhand/.kaggle. Or use the environment method.')]"
      ]
     },
     "execution_count": 47,
     "metadata": {},
     "output_type": "execute_result"
    }
   ],
   "source": [
    "new_vm.run_cmd(\"source /etc/profile;kaggle competitions download -c {} -p ~/data/{}\".format(competition_name, competition_alias))"
   ]
  },
  {
   "cell_type": "code",
   "execution_count": null,
   "metadata": {},
   "outputs": [],
   "source": []
  },
  {
   "cell_type": "code",
   "execution_count": 48,
   "metadata": {},
   "outputs": [
    {
     "name": "stderr",
     "output_type": "stream",
     "text": [
      "Token expired or is invalid. Attempting to refresh.\n"
     ]
    },
    {
     "data": {
      "text/plain": [
       "<msrest.polling.poller.LROPoller at 0x115c019e8>"
      ]
     },
     "execution_count": 48,
     "metadata": {},
     "output_type": "execute_result"
    }
   ],
   "source": [
    "new_vm.destroy()"
   ]
  },
  {
   "cell_type": "code",
   "execution_count": null,
   "metadata": {},
   "outputs": [],
   "source": []
  }
 ],
 "metadata": {
  "kernelspec": {
   "display_name": "Python 3",
   "language": "python",
   "name": "python3"
  },
  "language_info": {
   "codemirror_mode": {
    "name": "ipython",
    "version": 3
   },
   "file_extension": ".py",
   "mimetype": "text/x-python",
   "name": "python",
   "nbconvert_exporter": "python",
   "pygments_lexer": "ipython3",
   "version": "3.6.6"
  }
 },
 "nbformat": 4,
 "nbformat_minor": 1
}
