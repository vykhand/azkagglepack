{
 "cells": [
  {
   "cell_type": "code",
   "execution_count": 1,
   "metadata": {},
   "outputs": [],
   "source": [
    "%load_ext autoreload\n",
    "%autoreload 2"
   ]
  },
  {
   "cell_type": "code",
   "execution_count": 2,
   "metadata": {},
   "outputs": [],
   "source": [
    "import azkagglepack.vm as vm"
   ]
  },
  {
   "cell_type": "code",
   "execution_count": 3,
   "metadata": {},
   "outputs": [],
   "source": [
    "from azkagglepack.vm import AzureVM"
   ]
  },
  {
   "cell_type": "code",
   "execution_count": 4,
   "metadata": {},
   "outputs": [],
   "source": [
    "import os\n",
    "os.environ[\"AZURE_SUBSCRIPTION_ID\"] = \"81ae6a7a-0699-4b60-9c61-294bae201fba\"\n",
    "os.environ[\"AZURE_TENANT_ID\"] = \"72f988bf-86f1-41af-91ab-2d7cd011db47\"\n",
    "os.environ[\"AZURE_CLIENT_ID\"] = \"e14ed072-80aa-4782-881d-5362589e9d32\"\n",
    "os.environ[\"AZURE_CLIENT_SECRET\"] = \"A/PeHoOuHmx0TieuDzGEhuwR0s5gXTTRS7RBvuq82zY=\""
   ]
  },
  {
   "cell_type": "code",
   "execution_count": 5,
   "metadata": {},
   "outputs": [],
   "source": [
    "new_vm  = AzureVM(\"dsvm001\")"
   ]
  },
  {
   "cell_type": "code",
   "execution_count": 6,
   "metadata": {},
   "outputs": [
    {
     "data": {
      "text/plain": [
       "True"
      ]
     },
     "execution_count": 6,
     "metadata": {},
     "output_type": "execute_result"
    }
   ],
   "source": [
    "new_vm.vm_exists"
   ]
  },
  {
   "cell_type": "code",
   "execution_count": 7,
   "metadata": {
    "scrolled": true
   },
   "outputs": [
    {
     "data": {
      "text/plain": [
       "'dsvm001'"
      ]
     },
     "execution_count": 7,
     "metadata": {},
     "output_type": "execute_result"
    }
   ],
   "source": [
    "new_vm.vm_name"
   ]
  },
  {
   "cell_type": "code",
   "execution_count": 8,
   "metadata": {},
   "outputs": [
    {
     "data": {
      "text/plain": [
       "'dsvm001'"
      ]
     },
     "execution_count": 8,
     "metadata": {},
     "output_type": "execute_result"
    }
   ],
   "source": [
    "new_vm.group_name"
   ]
  },
  {
   "cell_type": "code",
   "execution_count": 9,
   "metadata": {},
   "outputs": [
    {
     "data": {
      "text/plain": [
       "True"
      ]
     },
     "execution_count": 9,
     "metadata": {},
     "output_type": "execute_result"
    }
   ],
   "source": [
    "new_vm.group_exists"
   ]
  },
  {
   "cell_type": "code",
   "execution_count": null,
   "metadata": {},
   "outputs": [],
   "source": [
    "new_vm.create(vm.SKU_D2S_V3, \"westeurope\", \"vykhand\", \"P00l!2018\", \n",
    "              ssh_key_file=\"/Users/vykhand/.ssh/id_rsa.pub\", \n",
    "              os_disk_size_gb = 64,\n",
    "              data_disk_size_gb = 256 )"
   ]
  },
  {
   "cell_type": "code",
   "execution_count": 15,
   "metadata": {},
   "outputs": [
    {
     "data": {
      "text/plain": [
       "[('CHANGED: partition=1 start=2048 old: size=209713152 end=209715200 new: size=536868831,end=536870879',\n",
       "  ''),\n",
       " ('Filesystem at /dev/sdc1 is mounted on /data; on-line resizing required\\nold_desc_blocks = 7, new_desc_blocks = 16\\nThe filesystem on /dev/sdc1 is now 67108603 (4k) blocks long.\\n',\n",
       "  'resize2fs 1.42.13 (17-May-2015)')]"
      ]
     },
     "execution_count": 15,
     "metadata": {},
     "output_type": "execute_result"
    }
   ],
   "source": [
    "new_vm.resize_data_partition()"
   ]
  },
  {
   "cell_type": "code",
   "execution_count": 16,
   "metadata": {},
   "outputs": [
    {
     "data": {
      "text/plain": [
       "'dsvm001.westeurope.cloudapp.azure.com'"
      ]
     },
     "execution_count": 16,
     "metadata": {},
     "output_type": "execute_result"
    }
   ],
   "source": [
    "new_vm.vm_hostname"
   ]
  },
  {
   "cell_type": "code",
   "execution_count": 14,
   "metadata": {},
   "outputs": [],
   "source": [
    "new_vm.resizeOSDisk(100)"
   ]
  },
  {
   "cell_type": "code",
   "execution_count": null,
   "metadata": {},
   "outputs": [],
   "source": [
    "new_vm.resizeDat"
   ]
  },
  {
   "cell_type": "code",
   "execution_count": 46,
   "metadata": {},
   "outputs": [],
   "source": [
    "op = new_vm.run_sdk(['echo \"hello world!\"', 'cat /proc/cpuinfo | grep -i \"model name\"'])"
   ]
  },
  {
   "cell_type": "code",
   "execution_count": 47,
   "metadata": {},
   "outputs": [
    {
     "data": {
      "text/plain": [
       "('hello world!\\nmodel name\\t: Intel(R) Xeon(R) CPU E5-2673 v4 @ 2.30GHz\\nmodel name\\t: Intel(R) Xeon(R) CPU E5-2673 v4 @ 2.30GHz\\n\\n',\n",
       " '')"
      ]
     },
     "execution_count": 47,
     "metadata": {},
     "output_type": "execute_result"
    }
   ],
   "source": [
    "op"
   ]
  },
  {
   "cell_type": "code",
   "execution_count": 81,
   "metadata": {},
   "outputs": [],
   "source": [
    "res = new_vm.run_ssh(['echo \"hello world!\"', 'cat /proc/cpuinfo | grep -i \"model name\"'])"
   ]
  },
  {
   "cell_type": "code",
   "execution_count": 82,
   "metadata": {},
   "outputs": [
    {
     "name": "stdout",
     "output_type": "stream",
     "text": [
      "model name\t: Intel(R) Xeon(R) CPU E5-2673 v4 @ 2.30GHz\n",
      "model name\t: Intel(R) Xeon(R) CPU E5-2673 v4 @ 2.30GHz\n",
      "model name\t: Intel(R) Xeon(R) CPU E5-2673 v4 @ 2.30GHz\n",
      "model name\t: Intel(R) Xeon(R) CPU E5-2673 v4 @ 2.30GHz\n"
     ]
    }
   ],
   "source": [
    "print(res[1][0])"
   ]
  },
  {
   "cell_type": "code",
   "execution_count": null,
   "metadata": {},
   "outputs": [],
   "source": [
    "new_vm = AzureVM(\"dsvm001\")"
   ]
  },
  {
   "cell_type": "code",
   "execution_count": 19,
   "metadata": {},
   "outputs": [],
   "source": [
    "res = new_vm.run_commands(['echo \"hello world!\"', 'cat /proc/cpuinfo | grep -i \"model name\"'])"
   ]
  },
  {
   "cell_type": "code",
   "execution_count": 20,
   "metadata": {},
   "outputs": [
    {
     "data": {
      "text/plain": [
       "[('hello world!', ''),\n",
       " ('model name\\t: Intel(R) Xeon(R) CPU E5-2673 v4 @ 2.30GHz\\nmodel name\\t: Intel(R) Xeon(R) CPU E5-2673 v4 @ 2.30GHz',\n",
       "  '')]"
      ]
     },
     "execution_count": 20,
     "metadata": {},
     "output_type": "execute_result"
    }
   ],
   "source": [
    "res"
   ]
  },
  {
   "cell_type": "code",
   "execution_count": 7,
   "metadata": {},
   "outputs": [],
   "source": [
    "new_vm.attach_vm(\"vykhand\", \"/Users/vykhand/.ssh/id_rsa.pub\")"
   ]
  },
  {
   "cell_type": "code",
   "execution_count": 16,
   "metadata": {},
   "outputs": [],
   "source": [
    "res = new_vm.run_commands(['echo \"hello world!\"', 'cat /proc/cpuinfo | grep -i \"model name\"'])"
   ]
  },
  {
   "cell_type": "code",
   "execution_count": 22,
   "metadata": {
    "scrolled": true
   },
   "outputs": [
    {
     "data": {
      "text/plain": [
       "<msrest.polling.poller.LROPoller at 0x115be5d30>"
      ]
     },
     "execution_count": 22,
     "metadata": {},
     "output_type": "execute_result"
    }
   ],
   "source": [
    "res = new_vm.resizeDataDisk(256)"
   ]
  },
  {
   "cell_type": "markdown",
   "metadata": {},
   "source": [
    "# setting up the kaggle folder"
   ]
  },
  {
   "cell_type": "code",
   "execution_count": 41,
   "metadata": {},
   "outputs": [],
   "source": [
    "admin_user = \"vykhand\"\n",
    "competition_name = \"quickdraw-doodle-recognition\"\n",
    "competition_alias = \"kaggle-quickdraw\"\n",
    "remote_data_dir = f\"/home/{admin_user}/data/{competition_alias}\"\n",
    "conda_file = \"/Users/vykhand/00.DEV_REPOS/kaggle-quickdraw/config/conda_dependencies.yml\"\n",
    "remote_conda_path = f\"/home/{admin_user}/{competition_alias}_conda_dependencies.yml\"\n",
    "conda_env_name = \"py36qd\"\n",
    "git_repo = \"git@bitbucket.org:vykhand/kaggle-quickdraw.git\"\n",
    "remote_work_dir = f\"/home/{admin_user}/{competition_alias}\""
   ]
  },
  {
   "cell_type": "code",
   "execution_count": 12,
   "metadata": {},
   "outputs": [],
   "source": [
    "new_vm.attach(\"vykhand\", \"/Users/vykhand/.ssh/id_rsa.pub\")"
   ]
  },
  {
   "cell_type": "code",
   "execution_count": 18,
   "metadata": {
    "collapsed": true
   },
   "outputs": [
    {
     "data": {
      "text/plain": [
       "[(\"Collecting kaggle\\n  Downloading https://files.pythonhosted.org/packages/83/9b/ac57e15fbb239c6793c8d0b7dfd1a4c4a025eaa9f791b5388a7afb515aed/kaggle-1.5.0.tar.gz (53kB)\\nRequirement already satisfied: urllib3<1.23.0,>=1.15 in /data/anaconda/envs/py35/lib/python3.5/site-packages (from kaggle) (1.22)\\nRequirement already satisfied: six>=1.10 in /data/anaconda/envs/py35/lib/python3.5/site-packages (from kaggle) (1.11.0)\\nRequirement already satisfied: certifi in /data/anaconda/envs/py35/lib/python3.5/site-packages (from kaggle) (2018.8.24)\\nRequirement already satisfied: python-dateutil in /data/anaconda/envs/py35/lib/python3.5/site-packages (from kaggle) (2.7.3)\\nRequirement already satisfied: requests in /data/anaconda/envs/py35/lib/python3.5/site-packages (from kaggle) (2.18.4)\\nRequirement already satisfied: tqdm in /data/anaconda/envs/py35/lib/python3.5/site-packages (from kaggle) (4.26.0)\\nCollecting python-slugify (from kaggle)\\n  Downloading https://files.pythonhosted.org/packages/00/ad/c778a6df614b6217c30fe80045b365bfa08b5dd3cb02e8b37a6d25126781/python-slugify-1.2.6.tar.gz\\nRequirement already satisfied: chardet<3.1.0,>=3.0.2 in /data/anaconda/envs/py35/lib/python3.5/site-packages (from requests->kaggle) (3.0.4)\\nRequirement already satisfied: idna<2.7,>=2.5 in /data/anaconda/envs/py35/lib/python3.5/site-packages (from requests->kaggle) (2.6)\\nCollecting Unidecode>=0.04.16 (from python-slugify->kaggle)\\n  Downloading https://files.pythonhosted.org/packages/31/39/53096f9217b057cb049fe872b7fc7ce799a1a89b76cf917d9639e7a558b5/Unidecode-1.0.23-py2.py3-none-any.whl (237kB)\\nBuilding wheels for collected packages: kaggle, python-slugify\\n  Running setup.py bdist_wheel for kaggle: started\\n  Running setup.py bdist_wheel for kaggle: finished with status 'done'\\n  Stored in directory: /home/vykhand/.cache/pip/wheels/8b/21/3b/a0076243c6ae12a6215b2da515fe06b539aee7217b406e510e\\n  Running setup.py bdist_wheel for python-slugify: started\\n  Running setup.py bdist_wheel for python-slugify: finished with status 'done'\\n  Stored in directory: /home/vykhand/.cache/pip/wheels/e3/65/da/2045deea3098ed7471eca0e2460cfbd3fdfe8c1d6fa6fcac92\\nSuccessfully built kaggle python-slugify\\nInstalling collected packages: Unidecode, python-slugify, kaggle\\nSuccessfully installed Unidecode-1.0.23 kaggle-1.5.0 python-slugify-1.2.6\",\n",
       "  \"You are using pip version 18.0, however version 18.1 is available.\\nYou should consider upgrading via the 'pip install --upgrade pip' command.\")]"
      ]
     },
     "execution_count": 18,
     "metadata": {},
     "output_type": "execute_result"
    }
   ],
   "source": [
    "new_vm.run_commands([\"source /etc/profile; pip install kaggle\"])"
   ]
  },
  {
   "cell_type": "code",
   "execution_count": 20,
   "metadata": {
    "scrolled": true
   },
   "outputs": [
    {
     "data": {
      "text/plain": [
       "[('', '')]"
      ]
     },
     "execution_count": 20,
     "metadata": {},
     "output_type": "execute_result"
    }
   ],
   "source": [
    "new_vm.run_cmd(\"mkdir -p ~/data/{}\".format(competition_alias))"
   ]
  },
  {
   "cell_type": "code",
   "execution_count": 21,
   "metadata": {
    "scrolled": true
   },
   "outputs": [
    {
     "data": {
      "text/plain": [
       "[('', '')]"
      ]
     },
     "execution_count": 21,
     "metadata": {},
     "output_type": "execute_result"
    }
   ],
   "source": [
    "new_vm.run_cmd(\"mkdir ~/.kaggle\")"
   ]
  },
  {
   "cell_type": "code",
   "execution_count": 23,
   "metadata": {},
   "outputs": [],
   "source": [
    "new_vm.put_file(\"/Users/vykhand/.kaggle/kaggle.json\", \"/home/vykhand/.kaggle/kaggle.json\")"
   ]
  },
  {
   "cell_type": "code",
   "execution_count": null,
   "metadata": {},
   "outputs": [],
   "source": [
    "new_vm.run_cmd(\"source /etc/profile;kaggle competitions download -c {} -p ~/data/{}\".format(competition_name, competition_alias))"
   ]
  },
  {
   "cell_type": "code",
   "execution_count": 10,
   "metadata": {},
   "outputs": [],
   "source": [
    "storage_account = \"expcompetitionsstorage\"\n",
    "storage_key = \"yWDtG2hN9cM8Q9xpmBgZXUzinPglIAGN3IomH9pXaGdG7mWCa5+exWjXSXRVANWU4Kn5QvxdT5iApH+klGceZw==\""
   ]
  },
  {
   "cell_type": "code",
   "execution_count": 12,
   "metadata": {},
   "outputs": [
    {
     "name": "stderr",
     "output_type": "stream",
     "text": [
      "Token expired or is invalid. Attempting to refresh.\n"
     ]
    },
    {
     "data": {
      "text/plain": [
       "[('', '')]"
      ]
     },
     "execution_count": 12,
     "metadata": {},
     "output_type": "execute_result"
    }
   ],
   "source": [
    "new_vm.run_commands(['echo export AZURE_STORAGE_ACCOUNT=\"{}\" >> /home/vykhand/{}-env.sh'.format(storage_account,\n",
    "                                                                                                competition_alias),\n",
    "                     'echo export AZURE_STORAGE_KEY=\"{}\" >> /home/vykhand/{}-env.sh'.format(storage_key,\n",
    "                                                                                                competition_alias)])"
   ]
  },
  {
   "cell_type": "code",
   "execution_count": 16,
   "metadata": {
    "collapsed": true
   },
   "outputs": [
    {
     "data": {
      "text/plain": [
       "[('[\\n  {\\n    \"Blob\": \"https://expcompetitionsstorage.blob.core.windows.net/kaggle-quickdraw/train_raw.zip\",\\n    \"Last Modified\": \"2018-11-25T00:08:07+00:00\",\\n    \"Type\": \"application/zip\",\\n    \"eTag\": \"\\\\\"0x8D6526A1431D43C\\\\\"\"\\n  },\\n  {\\n    \"Blob\": \"https://expcompetitionsstorage.blob.core.windows.net/kaggle-quickdraw/test_simplified.csv\",\\n    \"Last Modified\": \"2018-11-25T00:08:15+00:00\",\\n    \"Type\": \"text/csv\",\\n    \"eTag\": \"\\\\\"0x8D6526A189B515E\\\\\"\"\\n  },\\n  {\\n    \"Blob\": \"https://expcompetitionsstorage.blob.core.windows.net/kaggle-quickdraw/test_raw.csv\",\\n    \"Last Modified\": \"2018-11-25T00:08:41+00:00\",\\n    \"Type\": \"text/csv\",\\n    \"eTag\": \"\\\\\"0x8D6526A27FE0EEC\\\\\"\"\\n  },\\n  {\\n    \"Blob\": \"https://expcompetitionsstorage.blob.core.windows.net/kaggle-quickdraw/train_simplified.zip\",\\n    \"Last Modified\": \"2018-11-25T00:14:19+00:00\",\\n    \"Type\": \"application/zip\",\\n    \"eTag\": \"\\\\\"0x8D6526AF1BF2355\\\\\"\"\\n  },\\n  {\\n    \"Blob\": \"https://expcompetitionsstorage.blob.core.windows.net/kaggle-quickdraw/sample_submission.csv\",\\n    \"Last Modified\": \"2018-11-25T00:14:20+00:00\",\\n    \"Type\": \"text/csv\",\\n    \"eTag\": \"\\\\\"0x8D6526AF27A57FE\\\\\"\"\\n  }\\n]\\n\\n',\n",
       "  '###########################################################  ]  97.6318%\\rAlive[##############################################################  ]  97.6848%\\rAlive[##############################################################  ]  97.7377%\\rAlive[##############################################################  ]  97.7907%\\rAlive[##############################################################  ]  97.8437%\\rAlive[##############################################################  ]  97.8967%\\rAlive[##############################################################  ]  97.9496%\\rAlive[##############################################################  ]  98.0026%\\rAlive[##############################################################  ]  98.0556%\\rAlive[##############################################################  ]  98.1086%\\rAlive[##############################################################  ]  98.1615%\\rAlive[##############################################################  ]  98.2145%\\rAlive[##############################################################  ]  98.2675%\\rAlive[##############################################################  ]  98.3205%\\rAlive[##############################################################  ]  98.3734%\\rAlive[##############################################################  ]  98.4264%\\rAlive[############################################################### ]  98.4794%\\rAlive[############################################################### ]  98.5324%\\rAlive[############################################################### ]  98.5853%\\rAlive[############################################################### ]  98.6383%\\rAlive[############################################################### ]  98.6913%\\rAlive[############################################################### ]  98.7443%\\rAlive[############################################################### ]  98.7972%\\rAlive[############################################################### ]  98.8502%\\rAlive[############################################################### ]  98.9032%\\rAlive[############################################################### ]  98.9562%\\rAlive[############################################################### ]  99.0091%\\rAlive[############################################################### ]  99.0621%\\rAlive[############################################################### ]  99.1151%\\rAlive[############################################################### ]  99.1681%\\rAlive[############################################################### ]  99.2210%\\rAlive[############################################################### ]  99.2740%\\rAlive[############################################################### ]  99.3270%\\rAlive[############################################################### ]  99.3800%\\rAlive[############################################################### ]  99.4329%\\rAlive[############################################################### ]  99.4859%\\rAlive[############################################################### ]  99.5389%\\rAlive[############################################################### ]  99.5919%\\rAlive[############################################################### ]  99.6448%\\rAlive[############################################################### ]  99.6978%\\rAlive[############################################################### ]  99.7508%\\rAlive[############################################################### ]  99.8037%\\rAlive[############################################################### ]  99.8567%\\rAlive[############################################################### ]  99.9097%\\rAlive[############################################################### ]  99.9627%\\rAlive[################################################################]  100.0000%\\rFinished[#############################################################]  100.0000%\\nWARNING: uploading /data/home/vykhand/data/kaggle-quickdraw/sample_submission.csv\\n\\rAlive[################################################################]  100.0000%\\rFinished[#############################################################]  100.0000%\\n')]"
      ]
     },
     "execution_count": 16,
     "metadata": {},
     "output_type": "execute_result"
    }
   ],
   "source": [
    "new_vm.run_cmd(\"source /etc/profile;\" +\n",
    "               f\"source /home/{admin_user}/{competition_alias}-env.sh;\" +\n",
    "               f\"az storage blob upload-batch -s /home/{admin_user}/data/{competition_alias} -d {competition_alias}\")"
   ]
  },
  {
   "cell_type": "code",
   "execution_count": null,
   "metadata": {},
   "outputs": [],
   "source": [
    "new_vm.ssh_connec"
   ]
  },
  {
   "cell_type": "code",
   "execution_count": 15,
   "metadata": {},
   "outputs": [],
   "source": [
    "new_vm.put_file(local_path=conda_file, remote_path=remote_conda_path)"
   ]
  },
  {
   "cell_type": "code",
   "execution_count": null,
   "metadata": {},
   "outputs": [],
   "source": [
    "new_vm.run_cmd(\"source /etc/profile;\" +\n",
    "               f\"conda env create -f {remote_conda_path}\")"
   ]
  },
  {
   "cell_type": "code",
   "execution_count": 25,
   "metadata": {},
   "outputs": [
    {
     "name": "stdout",
     "output_type": "stream",
     "text": [
      "source /etc/profile;source activate py36qd;python -m ipykernel install --user --name py36qd --display-name \"Python (py36qd)\"\n"
     ]
    }
   ],
   "source": [
    "print (\"source /etc/profile;\" +\n",
    "               f\"source activate {conda_env_name};\" +\n",
    "               f'python -m ipykernel install --user --name {conda_env_name} ' + \n",
    "               f'--display-name \"Python ({conda_env_name})\"')"
   ]
  },
  {
   "cell_type": "code",
   "execution_count": null,
   "metadata": {},
   "outputs": [],
   "source": [
    "new_vm.run_cmd(\"source /etc/profile;\" +\n",
    "               f\"source activate {conda_env_name};\" +\n",
    "               f'python -m ipykernel install --name {conda_env_name} ' + \n",
    "               f'--display-name \"Python ({conda_env_name})\"')"
   ]
  },
  {
   "cell_type": "code",
   "execution_count": 33,
   "metadata": {},
   "outputs": [],
   "source": [
    "new_vm.put_file(\"/Users/vykhand/.ssh/id_rsa_dsvm\", f\"/home/{admin_user}/.ssh/id_rsa\")"
   ]
  },
  {
   "cell_type": "code",
   "execution_count": 35,
   "metadata": {},
   "outputs": [
    {
     "data": {
      "text/plain": [
       "[('',\n",
       "  \"Cloning into 'kaggle-quickdraw'...\\nWarning: Permanently added the RSA host key for IP address '18.205.93.0' to the list of known hosts.\\r\\nwarning: You appear to have cloned an empty repository.\")]"
      ]
     },
     "execution_count": 35,
     "metadata": {},
     "output_type": "execute_result"
    }
   ],
   "source": [
    "new_vm.run_cmd(f\"chmod 600 ~/.ssh/id_rsa;git clone -q {git_repo}\")"
   ]
  },
  {
   "cell_type": "code",
   "execution_count": 43,
   "metadata": {},
   "outputs": [
    {
     "data": {
      "text/plain": [
       "[('', ''),\n",
       " ('', \"ln: failed to create symbolic link 'kaggle-quickdraw': File exists\")]"
      ]
     },
     "execution_count": 43,
     "metadata": {},
     "output_type": "execute_result"
    }
   ],
   "source": [
    "new_vm.run_commands([f\"cd /home/{admin_user}/data/{competition_alias};ln -s {remote_data_dir} input\",\n",
    "                     f\"cd /home/{admin_user}/notebooks;ln -s {remote_work_dir} {competition_alias}\"])"
   ]
  },
  {
   "cell_type": "code",
   "execution_count": 12,
   "metadata": {
    "scrolled": true
   },
   "outputs": [
    {
     "data": {
      "text/plain": [
       "<msrest.polling.poller.LROPoller at 0x1155f1978>"
      ]
     },
     "execution_count": 12,
     "metadata": {},
     "output_type": "execute_result"
    }
   ],
   "source": [
    "new_vm.destroy()"
   ]
  },
  {
   "cell_type": "code",
   "execution_count": 27,
   "metadata": {},
   "outputs": [],
   "source": [
    "new_vm.ssh_pass\n"
   ]
  },
  {
   "cell_type": "code",
   "execution_count": null,
   "metadata": {},
   "outputs": [],
   "source": []
  }
 ],
 "metadata": {
  "kernelspec": {
   "display_name": "Python 3",
   "language": "python",
   "name": "python3"
  },
  "language_info": {
   "codemirror_mode": {
    "name": "ipython",
    "version": 3
   },
   "file_extension": ".py",
   "mimetype": "text/x-python",
   "name": "python",
   "nbconvert_exporter": "python",
   "pygments_lexer": "ipython3",
   "version": "3.6.6"
  }
 },
 "nbformat": 4,
 "nbformat_minor": 1
}
